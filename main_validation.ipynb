{
 "cells": [
  {
   "cell_type": "markdown",
   "metadata": {},
   "source": [
    "# 2020 Global Flood Validation Metrics \n",
    "## For Submission\n",
    "Written in Python 2"
   ]
  },
  {
   "cell_type": "code",
   "execution_count": 93,
   "metadata": {
    "collapsed": true
   },
   "outputs": [],
   "source": [
    "import pandas as pd\n",
    "from pandas import DataFrame\n",
    "import numpy as np\n",
    "import os\n",
    "import glob\n",
    "import datetime\n",
    "import matplotlib as plt\n",
    "import datetime as datetime  \n",
    "import matplotlib.pyplot as plt\n",
    "import seaborn as sns"
   ]
  },
  {
   "cell_type": "code",
   "execution_count": 94,
   "metadata": {
    "collapsed": true
   },
   "outputs": [],
   "source": [
    "%matplotlib inline"
   ]
  },
  {
   "cell_type": "markdown",
   "metadata": {},
   "source": [
    "# Step 1: Calculate erorr metrics for each flood"
   ]
  },
  {
   "cell_type": "markdown",
   "metadata": {},
   "source": [
    "### Run this section if you need to recalculate error metrics for each flood; otherwise skip to Step 2 to visualize and analyze"
   ]
  },
  {
   "cell_type": "markdown",
   "metadata": {},
   "source": [
    "### Read and Examine Data Structure"
   ]
  },
  {
   "cell_type": "code",
   "execution_count": 95,
   "metadata": {},
   "outputs": [
    {
     "name": "stdout",
     "output_type": "stream",
     "text": [
      "/Users/ckuhn/Documents/Coauthor/GFD_Tellman/data\n"
     ]
    }
   ],
   "source": [
    "%cd /Users/ckuhn/Documents/Coauthor/GFD_Tellman/data/\n",
    "raw = pd.read_csv('gfd_validation_points_2018_12_17.csv',index_col=None, header=0)"
   ]
  },
  {
   "cell_type": "code",
   "execution_count": 96,
   "metadata": {},
   "outputs": [
    {
     "data": {
      "text/html": [
       "<div>\n",
       "<style scoped>\n",
       "    .dataframe tbody tr th:only-of-type {\n",
       "        vertical-align: middle;\n",
       "    }\n",
       "\n",
       "    .dataframe tbody tr th {\n",
       "        vertical-align: top;\n",
       "    }\n",
       "\n",
       "    .dataframe thead th {\n",
       "        text-align: right;\n",
       "    }\n",
       "</style>\n",
       "<table border=\"1\" class=\"dataframe\">\n",
       "  <thead>\n",
       "    <tr style=\"text-align: right;\">\n",
       "      <th></th>\n",
       "      <th>Unnamed: 0</th>\n",
       "      <th>Unnamed: 0.1</th>\n",
       "      <th>Unnamed: 0.1.1</th>\n",
       "      <th>B1</th>\n",
       "      <th>B2</th>\n",
       "      <th>B3</th>\n",
       "      <th>B4</th>\n",
       "      <th>B5</th>\n",
       "      <th>B7</th>\n",
       "      <th>MNDWI</th>\n",
       "      <th>...</th>\n",
       "      <th>pixel_lon</th>\n",
       "      <th>point_lat</th>\n",
       "      <th>point_lon</th>\n",
       "      <th>random</th>\n",
       "      <th>std_2day</th>\n",
       "      <th>std_3day</th>\n",
       "      <th>otsu_2day</th>\n",
       "      <th>otsu_3day</th>\n",
       "      <th>strata</th>\n",
       "      <th>validation</th>\n",
       "    </tr>\n",
       "  </thead>\n",
       "  <tbody>\n",
       "    <tr>\n",
       "      <th>0</th>\n",
       "      <td>0</td>\n",
       "      <td>0</td>\n",
       "      <td>0</td>\n",
       "      <td>792.15651</td>\n",
       "      <td>896.579047</td>\n",
       "      <td>761.223987</td>\n",
       "      <td>1833.576595</td>\n",
       "      <td>980.842213</td>\n",
       "      <td>516.20095</td>\n",
       "      <td>-0.044882</td>\n",
       "      <td>...</td>\n",
       "      <td>87.277107</td>\n",
       "      <td>25.681778</td>\n",
       "      <td>87.277107</td>\n",
       "      <td>0.853473</td>\n",
       "      <td>0.0</td>\n",
       "      <td>0.0</td>\n",
       "      <td>0.0</td>\n",
       "      <td>0.0</td>\n",
       "      <td>0</td>\n",
       "      <td>0.0</td>\n",
       "    </tr>\n",
       "  </tbody>\n",
       "</table>\n",
       "<p>1 rows × 27 columns</p>\n",
       "</div>"
      ],
      "text/plain": [
       "   Unnamed: 0  Unnamed: 0.1  Unnamed: 0.1.1         B1          B2  \\\n",
       "0           0             0               0  792.15651  896.579047   \n",
       "\n",
       "           B3           B4          B5         B7     MNDWI     ...      \\\n",
       "0  761.223987  1833.576595  980.842213  516.20095 -0.044882     ...       \n",
       "\n",
       "   pixel_lon  point_lat  point_lon    random  std_2day  std_3day  otsu_2day  \\\n",
       "0  87.277107  25.681778  87.277107  0.853473       0.0       0.0        0.0   \n",
       "\n",
       "   otsu_3day  strata  validation  \n",
       "0        0.0       0         0.0  \n",
       "\n",
       "[1 rows x 27 columns]"
      ]
     },
     "execution_count": 96,
     "metadata": {},
     "output_type": "execute_result"
    }
   ],
   "source": [
    "# dataframe first row\n",
    "raw.head(1)"
   ]
  },
  {
   "cell_type": "code",
   "execution_count": 97,
   "metadata": {},
   "outputs": [
    {
     "name": "stdout",
     "output_type": "stream",
     "text": [
      "(33141, 27)\n"
     ]
    },
    {
     "data": {
      "text/plain": [
       "Index(['Unnamed: 0', 'Unnamed: 0.1', 'Unnamed: 0.1.1', 'B1', 'B2', 'B3', 'B4',\n",
       "       'B5', 'B7', 'MNDWI', 'NDVI', 'analyst', 'date', 'dfoID', 'id', 'lon',\n",
       "       'pixel_lat', 'pixel_lon', 'point_lat', 'point_lon', 'random',\n",
       "       'std_2day', 'std_3day', 'otsu_2day', 'otsu_3day', 'strata',\n",
       "       'validation'],\n",
       "      dtype='object')"
      ]
     },
     "execution_count": 97,
     "metadata": {},
     "output_type": "execute_result"
    }
   ],
   "source": [
    "# dataframe shape\n",
    "print(raw.shape)\n",
    "\n",
    "# dataframe column headers\n",
    "raw.columns"
   ]
  },
  {
   "cell_type": "code",
   "execution_count": 98,
   "metadata": {},
   "outputs": [
    {
     "name": "stdout",
     "output_type": "stream",
     "text": [
      "no. of unique floods: 123\n",
      "no of validation points: 33141\n",
      "representative breakdown:\n",
      "no of dry points: 8078\n",
      "no of permanent water points: 8107\n",
      "no of flooded points: 16952\n"
     ]
    }
   ],
   "source": [
    "# Validation** = student classification  \n",
    "# Strata** = DFO classification\n",
    "\n",
    "print('no. of unique floods:', len(raw['dfoID'].unique()))\n",
    "print('no of validation points:', len(raw))\n",
    "\n",
    "print('representative breakdown:')\n",
    "print('no of dry points:', len(raw.loc[raw['std_2day'] == 0]))\n",
    "print('no of permanent water points:', len(raw.loc[raw['std_2day'] == 1]))\n",
    "print('no of flooded points:', len(raw.loc[raw['std_2day'] == 2]))"
   ]
  },
  {
   "cell_type": "markdown",
   "metadata": {},
   "source": [
    "#### Drop floods with fewer than 100 points"
   ]
  },
  {
   "cell_type": "code",
   "execution_count": 11,
   "metadata": {
    "collapsed": true
   },
   "outputs": [],
   "source": [
    "df = raw.groupby('dfoID').filter(lambda g: g.dfoID.count() >= 100)\n",
    "#df.dfoID.unique()"
   ]
  },
  {
   "cell_type": "markdown",
   "metadata": {},
   "source": [
    "#### Drop NA values"
   ]
  },
  {
   "cell_type": "code",
   "execution_count": 12,
   "metadata": {
    "collapsed": true
   },
   "outputs": [],
   "source": [
    "# Pixels got labeled \"NAN\" were coded as either -99 or 99 \n",
    "df = df.loc[df['validation'] > -1]\n",
    "df = df.loc[df['validation'] < 99]"
   ]
  },
  {
   "cell_type": "markdown",
   "metadata": {},
   "source": [
    "## Calculate error metrics"
   ]
  },
  {
   "cell_type": "markdown",
   "metadata": {},
   "source": [
    "### Background\n",
    "\n",
    "The points were stratified into three classes or strata. They are 50% not flooded (permanent water + dry) and 50% flooded. \n",
    "- not flooded/dry (0)\n",
    "- permanent water (1)\n",
    "- flooded (2)\n",
    "\n",
    "Four methods were used: \n",
    "- standard approach, 2 days\n",
    "- standard approach, 3 days\n",
    "- otsu, 2 days\n",
    "- otsu 3 days\n",
    "\n",
    "\n",
    "The **Validation** column is the student classification    \n",
    "The **Strata** column is the DFO classification"
   ]
  },
  {
   "cell_type": "markdown",
   "metadata": {},
   "source": [
    "### Select and prepare the method to analyze"
   ]
  },
  {
   "cell_type": "code",
   "execution_count": 9,
   "metadata": {
    "collapsed": true
   },
   "outputs": [],
   "source": [
    "# Isolate each of the methods\n",
    "st2 = df.filter(['dfoID', 'std_2day','strata', 'validation' ], axis=1)\n",
    "st3 = df.filter(['dfoID', 'std_3day','strata', 'validation' ], axis=1)\n",
    "ot2 = df.filter(['dfoID', 'otsu_2day','strata', 'validation' ], axis=1)\n",
    "ot3 = df.filter(['dfoID', 'otsu_3day','strata', 'validation' ], axis=1)"
   ]
  },
  {
   "cell_type": "code",
   "execution_count": 10,
   "metadata": {},
   "outputs": [
    {
     "name": "stdout",
     "output_type": "stream",
     "text": [
      "model_score\n",
      "0.0     7424\n",
      "1.0     7481\n",
      "2.0    15628\n",
      "Name: dfoID, dtype: int64\n",
      "student_score\n",
      "0.0    11497\n",
      "1.0    19036\n",
      "Name: dfoID, dtype: int64\n"
     ]
    }
   ],
   "source": [
    "# # Select which collection to analyze: \n",
    "\n",
    "# Create a label for the method to use in filenaming\n",
    "method = st2\n",
    "method_name = 'std_2day'\n",
    "\n",
    "method['model_score'] = method[method_name]\n",
    "method['student_score'] = method['validation']\n",
    "\n",
    "print(method.groupby('model_score')['dfoID'].count())\n",
    "# Remember: strata = 0 = dry, 1 = permanent water, 2 = flood\n",
    "print(method.groupby(['student_score'])['dfoID'].count())"
   ]
  },
  {
   "cell_type": "markdown",
   "metadata": {},
   "source": [
    "## Calculate Confusion Matrix"
   ]
  },
  {
   "cell_type": "markdown",
   "metadata": {},
   "source": [
    "#### matrix components\n",
    "\n",
    "\n",
    "- true positive = Validation (1) + Strata(4) = 5\n",
    "- true negative = Validation (0) + Strata (0) =  0 \n",
    "- false positive = Validation (0) + Strata (4) = 4\n",
    "- false negative = Validation (1) + Strata (0) = 1"
   ]
  },
  {
   "cell_type": "markdown",
   "metadata": {},
   "source": [
    "### Calculate  metrics"
   ]
  },
  {
   "cell_type": "code",
   "execution_count": null,
   "metadata": {},
   "outputs": [],
   "source": [
    "method['model_score'] = method['model_score'].multiply(2)\n",
    "method['model_score'].value_counts()\n",
    "# 0 - dry, 2 - permanent water - 4 - floods\n",
    "# 0 - dry, 1 - flooded\n",
    "method['student_score'].value_counts()\n",
    "# Add them together\n",
    "method['score']  = method['model_score'] + method['student_score'] \n",
    "method['score'].value_counts()\n",
    "\n",
    "# True Positive = Validation (1) + Strata (4)\n",
    "tp = len(method.loc[method['score']== 5])\n",
    "# True Negative = Validation (0) + Strata (0)\n",
    "tn = len(method.loc[method['score']== 0])\n",
    "# False Positive = Validation (0) + Strata (4)\n",
    "fp = len(method.loc[method['score']== 4])\n",
    "# False Negative = Validation (1) + Strata (0)\n",
    "fn = len(method.loc[method['score']== 1])\n",
    "\n",
    "\n",
    "precision = tp / (tp + fp)\n",
    "recall  = tp / (tp + fn)  # % of flooded pixels it ID'ed correctly\n",
    "accuracy = (tn + tp) / (tn+tp+fp+fn)\n",
    "commission = fp / (tp + fp)  # modeled positives over all true positives\n",
    "omission = fn / (tp + fn)\n",
    "\n",
    "total = tn+tp+fn+fp\n",
    "print('True Negatives(%)',tn/total) #32   Sep 2018 updates: 30%\n",
    "print('True Positives(%)',tp/total) #52   Sep 2018 updates: 52%\n",
    "print('False Positives(%)',fp/total) #15  Sep 2018 updates: 16%\n",
    "print('False Negatives(%)',fn/total) # <0.01  Sep 2018 updates: 1.6%\n",
    "print(total)\n",
    "print(accuracy)\n",
    "print(commission)\n",
    "print(omission)"
   ]
  },
  {
   "cell_type": "code",
   "execution_count": null,
   "metadata": {
    "collapsed": true
   },
   "outputs": [],
   "source": [
    "col_names =  ['Method', 'tp', 'tn','fp','fn',\n",
    "             'precision','recall','overall_accuracy',\n",
    "             'commission','omission'] ### Column names for making data frames for each flood\n",
    "\n",
    "my_df  = pd.DataFrame(columns = col_names)## Make empty data frame to put values for each sampling level in"
   ]
  },
  {
   "cell_type": "markdown",
   "metadata": {},
   "source": [
    "### Create new dataframe for that method"
   ]
  },
  {
   "cell_type": "code",
   "execution_count": null,
   "metadata": {
    "collapsed": true
   },
   "outputs": [],
   "source": [
    "std_2day = [method_name, tp, tn, fp, fn, precision, recall, accuracy, commission, omission]\n",
    "#std_3day = [method_name, tp, tn, fp, fn, precision, recall, accuracy, commission, omission]\n",
    "#otsu_2day = [method_name, tp, tn, fp, fn, precision, recall, accuracy, commission, omission]\n",
    "#otsu_3day = [method_name, tp, tn, fp, fn, precision, recall, accuracy, commission, omission]"
   ]
  },
  {
   "cell_type": "code",
   "execution_count": null,
   "metadata": {
    "collapsed": true
   },
   "outputs": [],
   "source": [
    "std2_short  = pd.DataFrame([std_2day], columns = col_names)## Make empty data frame to put values for each sampling level in\n",
    "# std3_short  = pd.DataFrame([std_3day], columns = col_names)## Make empty data frame to put values for each sampling level in\n",
    "# ot2_short  = pd.DataFrame([otsu_2day], columns = col_names)## Make empty data frame to put values for each sampling level in\n",
    "# ot3_short  = pd.DataFrame([otsu_3day], columns = col_names)## Make empty data frame to put values for each sampling level in"
   ]
  },
  {
   "cell_type": "code",
   "execution_count": null,
   "metadata": {
    "collapsed": true
   },
   "outputs": [],
   "source": [
    "## Optional step: add dataframes together\n",
    "# all_data = std2_short.append(std3_short).append(ot3_short).append(ot2_short)\n",
    "# all_data"
   ]
  },
  {
   "cell_type": "markdown",
   "metadata": {},
   "source": [
    "# Step 2: Plot  error metrics"
   ]
  },
  {
   "cell_type": "code",
   "execution_count": 99,
   "metadata": {},
   "outputs": [
    {
     "name": "stdout",
     "output_type": "stream",
     "text": [
      "/Users/ckuhn/Documents/Coauthor/GFD_Tellman/data\n"
     ]
    },
    {
     "data": {
      "text/html": [
       "<div>\n",
       "<style scoped>\n",
       "    .dataframe tbody tr th:only-of-type {\n",
       "        vertical-align: middle;\n",
       "    }\n",
       "\n",
       "    .dataframe tbody tr th {\n",
       "        vertical-align: top;\n",
       "    }\n",
       "\n",
       "    .dataframe thead th {\n",
       "        text-align: right;\n",
       "    }\n",
       "</style>\n",
       "<table border=\"1\" class=\"dataframe\">\n",
       "  <thead>\n",
       "    <tr style=\"text-align: right;\">\n",
       "      <th></th>\n",
       "      <th>Flood</th>\n",
       "      <th>Method</th>\n",
       "      <th>Latitude</th>\n",
       "      <th>Longitude</th>\n",
       "      <th>tp</th>\n",
       "      <th>tn</th>\n",
       "      <th>fp</th>\n",
       "      <th>fn</th>\n",
       "      <th>fp_jrc</th>\n",
       "      <th>tp_jrc</th>\n",
       "      <th>precision</th>\n",
       "      <th>recall</th>\n",
       "      <th>overall_accuracy</th>\n",
       "      <th>commission</th>\n",
       "      <th>omission</th>\n",
       "      <th>counts</th>\n",
       "    </tr>\n",
       "  </thead>\n",
       "  <tbody>\n",
       "    <tr>\n",
       "      <th>0</th>\n",
       "      <td>4098</td>\n",
       "      <td>std_3day</td>\n",
       "      <td>24.662609</td>\n",
       "      <td>87.105573</td>\n",
       "      <td>116.0</td>\n",
       "      <td>58.0</td>\n",
       "      <td>9.0</td>\n",
       "      <td>2.0</td>\n",
       "      <td>5.0</td>\n",
       "      <td>55.0</td>\n",
       "      <td>0.928</td>\n",
       "      <td>0.983051</td>\n",
       "      <td>0.940541</td>\n",
       "      <td>0.072</td>\n",
       "      <td>0.016949</td>\n",
       "      <td>245.0</td>\n",
       "    </tr>\n",
       "    <tr>\n",
       "      <th>1</th>\n",
       "      <td>4098</td>\n",
       "      <td>otsu_3day</td>\n",
       "      <td>24.662609</td>\n",
       "      <td>87.105573</td>\n",
       "      <td>116.0</td>\n",
       "      <td>58.0</td>\n",
       "      <td>9.0</td>\n",
       "      <td>2.0</td>\n",
       "      <td>5.0</td>\n",
       "      <td>55.0</td>\n",
       "      <td>0.928</td>\n",
       "      <td>0.983051</td>\n",
       "      <td>0.940541</td>\n",
       "      <td>0.072</td>\n",
       "      <td>0.016949</td>\n",
       "      <td>245.0</td>\n",
       "    </tr>\n",
       "  </tbody>\n",
       "</table>\n",
       "</div>"
      ],
      "text/plain": [
       "   Flood     Method   Latitude  Longitude     tp    tn   fp   fn  fp_jrc  \\\n",
       "0   4098   std_3day  24.662609  87.105573  116.0  58.0  9.0  2.0     5.0   \n",
       "1   4098  otsu_3day  24.662609  87.105573  116.0  58.0  9.0  2.0     5.0   \n",
       "\n",
       "   tp_jrc  precision    recall  overall_accuracy  commission  omission  counts  \n",
       "0    55.0      0.928  0.983051          0.940541       0.072  0.016949   245.0  \n",
       "1    55.0      0.928  0.983051          0.940541       0.072  0.016949   245.0  "
      ]
     },
     "execution_count": 99,
     "metadata": {},
     "output_type": "execute_result"
    }
   ],
   "source": [
    "%cd '/Users/ckuhn/Documents/Coauthor/GFD_Tellman/data/'\n",
    "my_df = pd.read_csv('gfd_validation_metrics.csv').drop(['Unnamed: 0', 'MNDWI', 'NDVI'], axis=1)\n",
    "my_df.head(2)"
   ]
  },
  {
   "cell_type": "code",
   "execution_count": 100,
   "metadata": {
    "collapsed": true
   },
   "outputs": [],
   "source": [
    "dfmelted = pd.melt(my_df, id_vars = ['Flood', 'Method', 'counts'], var_name = 'metric', value_name = 'value')"
   ]
  },
  {
   "cell_type": "code",
   "execution_count": 101,
   "metadata": {
    "collapsed": true
   },
   "outputs": [],
   "source": [
    "error = dfmelted.loc[dfmelted['metric'].isin(['commission','omission'])]\n",
    "overall = dfmelted.loc[dfmelted['metric'].isin(['overall_accuracy','precision','recall' ])]\n",
    "basics = dfmelted.loc[dfmelted['metric'].isin(['tp','tn','fp', 'fn' ])]"
   ]
  },
  {
   "cell_type": "code",
   "execution_count": 102,
   "metadata": {},
   "outputs": [
    {
     "data": {
      "text/html": [
       "<div>\n",
       "<style scoped>\n",
       "    .dataframe tbody tr th:only-of-type {\n",
       "        vertical-align: middle;\n",
       "    }\n",
       "\n",
       "    .dataframe tbody tr th {\n",
       "        vertical-align: top;\n",
       "    }\n",
       "\n",
       "    .dataframe thead th {\n",
       "        text-align: right;\n",
       "    }\n",
       "</style>\n",
       "<table border=\"1\" class=\"dataframe\">\n",
       "  <thead>\n",
       "    <tr style=\"text-align: right;\">\n",
       "      <th></th>\n",
       "      <th></th>\n",
       "      <th>mean</th>\n",
       "      <th>std</th>\n",
       "    </tr>\n",
       "    <tr>\n",
       "      <th>Method</th>\n",
       "      <th>metric</th>\n",
       "      <th></th>\n",
       "      <th></th>\n",
       "    </tr>\n",
       "  </thead>\n",
       "  <tbody>\n",
       "    <tr>\n",
       "      <th rowspan=\"3\" valign=\"top\">otsu_2day</th>\n",
       "      <th>overall_accuracy</th>\n",
       "      <td>0.818962</td>\n",
       "      <td>0.135054</td>\n",
       "    </tr>\n",
       "    <tr>\n",
       "      <th>precision</th>\n",
       "      <td>0.773237</td>\n",
       "      <td>0.212571</td>\n",
       "    </tr>\n",
       "    <tr>\n",
       "      <th>recall</th>\n",
       "      <td>0.918766</td>\n",
       "      <td>0.121110</td>\n",
       "    </tr>\n",
       "    <tr>\n",
       "      <th rowspan=\"3\" valign=\"top\">otsu_3day</th>\n",
       "      <th>overall_accuracy</th>\n",
       "      <td>0.804849</td>\n",
       "      <td>0.123519</td>\n",
       "    </tr>\n",
       "    <tr>\n",
       "      <th>precision</th>\n",
       "      <td>0.788816</td>\n",
       "      <td>0.207127</td>\n",
       "    </tr>\n",
       "    <tr>\n",
       "      <th>recall</th>\n",
       "      <td>0.845200</td>\n",
       "      <td>0.170417</td>\n",
       "    </tr>\n",
       "    <tr>\n",
       "      <th rowspan=\"3\" valign=\"top\">std_2day</th>\n",
       "      <th>overall_accuracy</th>\n",
       "      <td>0.823720</td>\n",
       "      <td>0.152845</td>\n",
       "    </tr>\n",
       "    <tr>\n",
       "      <th>precision</th>\n",
       "      <td>0.770245</td>\n",
       "      <td>0.215143</td>\n",
       "    </tr>\n",
       "    <tr>\n",
       "      <th>recall</th>\n",
       "      <td>0.965914</td>\n",
       "      <td>0.055223</td>\n",
       "    </tr>\n",
       "    <tr>\n",
       "      <th rowspan=\"3\" valign=\"top\">std_3day</th>\n",
       "      <th>overall_accuracy</th>\n",
       "      <td>0.826149</td>\n",
       "      <td>0.145905</td>\n",
       "    </tr>\n",
       "    <tr>\n",
       "      <th>precision</th>\n",
       "      <td>0.772862</td>\n",
       "      <td>0.214098</td>\n",
       "    </tr>\n",
       "    <tr>\n",
       "      <th>recall</th>\n",
       "      <td>0.961809</td>\n",
       "      <td>0.059423</td>\n",
       "    </tr>\n",
       "  </tbody>\n",
       "</table>\n",
       "</div>"
      ],
      "text/plain": [
       "                                mean       std\n",
       "Method    metric                              \n",
       "otsu_2day overall_accuracy  0.818962  0.135054\n",
       "          precision         0.773237  0.212571\n",
       "          recall            0.918766  0.121110\n",
       "otsu_3day overall_accuracy  0.804849  0.123519\n",
       "          precision         0.788816  0.207127\n",
       "          recall            0.845200  0.170417\n",
       "std_2day  overall_accuracy  0.823720  0.152845\n",
       "          precision         0.770245  0.215143\n",
       "          recall            0.965914  0.055223\n",
       "std_3day  overall_accuracy  0.826149  0.145905\n",
       "          precision         0.772862  0.214098\n",
       "          recall            0.961809  0.059423"
      ]
     },
     "execution_count": 102,
     "metadata": {},
     "output_type": "execute_result"
    }
   ],
   "source": [
    "overall.groupby(['Method', 'metric'])['value'].agg(['mean', 'std'])"
   ]
  },
  {
   "cell_type": "code",
   "execution_count": 103,
   "metadata": {
    "collapsed": true
   },
   "outputs": [],
   "source": [
    "basics = basics.replace(['std_3day', 'otsu_2day', 'std_2day', 'otsu_3day'],['3Day Standard', '2Day Otsu', '2Day Standard', '3Day Otsu'])\n",
    "basics = basics.replace(['tp', 'tn', 'fp', 'fn'],['True Positive', 'True Negative', 'False Positive', 'False Negative'])"
   ]
  },
  {
   "cell_type": "code",
   "execution_count": 104,
   "metadata": {},
   "outputs": [
    {
     "name": "stdout",
     "output_type": "stream",
     "text": [
      "/Users/ckuhn/Documents/Coauthor/GFD_Tellman/figures\n"
     ]
    },
    {
     "data": {
      "image/png": "[encoded data removed]",
      "text/plain": [
       "<Figure size 864x576 with 1 Axes>"
      ]
     },
     "metadata": {},
     "output_type": "display_data"
    }
   ],
   "source": [
    "def set_style():\n",
    "    plt.style.use(['seaborn-white', 'seaborn-talk'])\n",
    "    plt.rc(\"font\", family=\"Times New Roman\", size = 30)\n",
    "    plt.rc('xtick', labelsize=30) \n",
    "    plt.rc('ytick', labelsize=30) \n",
    "set_style()  \n",
    "\n",
    "order = 'True Positive', 'True Negative', 'False Positive', 'False Negative'\n",
    "\n",
    "g = sns.factorplot(kind='box',        # Boxplot\n",
    "               y='value',       # Y-axis - values for boxplot\n",
    "               x='metric',        # X-axis - first factor\n",
    "               hue = 'Method',\n",
    "               hue_order  = ['2Day Otsu', '2Day Standard', '3Day Otsu', '3Day Standard'],\n",
    "               data=basics,        # Dataframe \n",
    "               order = order,\n",
    "               size=8,            # Figure size (x100px)      \n",
    "               aspect=1.5, \n",
    "               palette= ['#ca0020', '#f4a582', '#0571b0', '#92c5de'],  # Width = size * aspect \n",
    "               legend_out=False)  # Make legend inside the plot\n",
    "#g.fig.get_axes()[0].set_yscale('log')\n",
    "\n",
    "#g.fig.text(0.75, 0.75,'n = 121 floods', fontsize=30, color = '#ff3d00') #add text\n",
    "\n",
    "g.set_xticklabels(rotation=30)\n",
    "\n",
    "plt.ylabel('Count', fontsize = 45)\n",
    "plt.xlabel('', fontsize = 45)\n",
    "plt.title('', fontsize = 45)\n",
    "#plt.axhline(y=0, color='grey', ls='--')\n",
    "#plt.legend(loc='upper left', fontsize=45)\n",
    "plt.legend()\n",
    "plt.tight_layout()\n",
    "\n",
    "%cd /Users/ckuhn/Documents/Coauthor/GFD_Tellman/figures/\n",
    "plt.savefig('GFD_basics.png', dpi = 300)\n",
    "\n",
    "# plt.show()\n",
    "\n",
    "#http://queirozf.com/entries/matplotlib-pyplot-by-example#change-tick-label-rotation # ADD LABELS"
   ]
  },
  {
   "cell_type": "code",
   "execution_count": 105,
   "metadata": {},
   "outputs": [
    {
     "data": {
      "text/plain": [
       "Method         metric        \n",
       "2Day Otsu      False Negative      6.974359\n",
       "               False Positive     27.709402\n",
       "               True Negative      61.239316\n",
       "               True Positive      98.085470\n",
       "2Day Standard  False Negative      3.228814\n",
       "               False Positive     30.381356\n",
       "               True Negative      58.305085\n",
       "               True Positive     101.296610\n",
       "3Day Otsu      False Negative     14.025641\n",
       "               False Positive     23.418803\n",
       "               True Negative      65.529915\n",
       "               True Positive      91.034188\n",
       "3Day Standard  False Negative      3.661017\n",
       "               False Positive     29.542373\n",
       "               True Negative      59.144068\n",
       "               True Positive     100.864407\n",
       "Name: value, dtype: float64"
      ]
     },
     "execution_count": 105,
     "metadata": {},
     "output_type": "execute_result"
    }
   ],
   "source": [
    "basics.groupby(['Method', 'metric'])['value'].mean()"
   ]
  },
  {
   "cell_type": "code",
   "execution_count": 106,
   "metadata": {},
   "outputs": [
    {
     "data": {
      "text/html": [
       "<div>\n",
       "<style scoped>\n",
       "    .dataframe tbody tr th:only-of-type {\n",
       "        vertical-align: middle;\n",
       "    }\n",
       "\n",
       "    .dataframe tbody tr th {\n",
       "        vertical-align: top;\n",
       "    }\n",
       "\n",
       "    .dataframe thead th {\n",
       "        text-align: right;\n",
       "    }\n",
       "</style>\n",
       "<table border=\"1\" class=\"dataframe\">\n",
       "  <thead>\n",
       "    <tr style=\"text-align: right;\">\n",
       "      <th></th>\n",
       "      <th></th>\n",
       "      <th>mean</th>\n",
       "      <th>std</th>\n",
       "    </tr>\n",
       "    <tr>\n",
       "      <th>Method</th>\n",
       "      <th>metric</th>\n",
       "      <th></th>\n",
       "      <th></th>\n",
       "    </tr>\n",
       "  </thead>\n",
       "  <tbody>\n",
       "    <tr>\n",
       "      <th rowspan=\"2\" valign=\"top\">otsu_2day</th>\n",
       "      <th>commission</th>\n",
       "      <td>0.226763</td>\n",
       "      <td>0.212571</td>\n",
       "    </tr>\n",
       "    <tr>\n",
       "      <th>omission</th>\n",
       "      <td>0.081234</td>\n",
       "      <td>0.121110</td>\n",
       "    </tr>\n",
       "    <tr>\n",
       "      <th rowspan=\"2\" valign=\"top\">otsu_3day</th>\n",
       "      <th>commission</th>\n",
       "      <td>0.211184</td>\n",
       "      <td>0.207127</td>\n",
       "    </tr>\n",
       "    <tr>\n",
       "      <th>omission</th>\n",
       "      <td>0.154800</td>\n",
       "      <td>0.170417</td>\n",
       "    </tr>\n",
       "    <tr>\n",
       "      <th rowspan=\"2\" valign=\"top\">std_2day</th>\n",
       "      <th>commission</th>\n",
       "      <td>0.229755</td>\n",
       "      <td>0.215143</td>\n",
       "    </tr>\n",
       "    <tr>\n",
       "      <th>omission</th>\n",
       "      <td>0.034086</td>\n",
       "      <td>0.055223</td>\n",
       "    </tr>\n",
       "    <tr>\n",
       "      <th rowspan=\"2\" valign=\"top\">std_3day</th>\n",
       "      <th>commission</th>\n",
       "      <td>0.227138</td>\n",
       "      <td>0.214098</td>\n",
       "    </tr>\n",
       "    <tr>\n",
       "      <th>omission</th>\n",
       "      <td>0.038191</td>\n",
       "      <td>0.059423</td>\n",
       "    </tr>\n",
       "  </tbody>\n",
       "</table>\n",
       "</div>"
      ],
      "text/plain": [
       "                          mean       std\n",
       "Method    metric                        \n",
       "otsu_2day commission  0.226763  0.212571\n",
       "          omission    0.081234  0.121110\n",
       "otsu_3day commission  0.211184  0.207127\n",
       "          omission    0.154800  0.170417\n",
       "std_2day  commission  0.229755  0.215143\n",
       "          omission    0.034086  0.055223\n",
       "std_3day  commission  0.227138  0.214098\n",
       "          omission    0.038191  0.059423"
      ]
     },
     "execution_count": 106,
     "metadata": {},
     "output_type": "execute_result"
    }
   ],
   "source": [
    "error.groupby(['Method', 'metric'])['value'].agg(['mean', 'std'])"
   ]
  },
  {
   "cell_type": "code",
   "execution_count": 107,
   "metadata": {},
   "outputs": [
    {
     "data": {
      "text/html": [
       "<div>\n",
       "<style scoped>\n",
       "    .dataframe tbody tr th:only-of-type {\n",
       "        vertical-align: middle;\n",
       "    }\n",
       "\n",
       "    .dataframe tbody tr th {\n",
       "        vertical-align: top;\n",
       "    }\n",
       "\n",
       "    .dataframe thead th {\n",
       "        text-align: right;\n",
       "    }\n",
       "</style>\n",
       "<table border=\"1\" class=\"dataframe\">\n",
       "  <thead>\n",
       "    <tr style=\"text-align: right;\">\n",
       "      <th></th>\n",
       "      <th></th>\n",
       "      <th>mean</th>\n",
       "      <th>std</th>\n",
       "    </tr>\n",
       "    <tr>\n",
       "      <th>Method</th>\n",
       "      <th>metric</th>\n",
       "      <th></th>\n",
       "      <th></th>\n",
       "    </tr>\n",
       "  </thead>\n",
       "  <tbody>\n",
       "    <tr>\n",
       "      <th rowspan=\"3\" valign=\"top\">otsu_2day</th>\n",
       "      <th>overall_accuracy</th>\n",
       "      <td>0.818962</td>\n",
       "      <td>0.135054</td>\n",
       "    </tr>\n",
       "    <tr>\n",
       "      <th>precision</th>\n",
       "      <td>0.773237</td>\n",
       "      <td>0.212571</td>\n",
       "    </tr>\n",
       "    <tr>\n",
       "      <th>recall</th>\n",
       "      <td>0.918766</td>\n",
       "      <td>0.121110</td>\n",
       "    </tr>\n",
       "    <tr>\n",
       "      <th rowspan=\"3\" valign=\"top\">otsu_3day</th>\n",
       "      <th>overall_accuracy</th>\n",
       "      <td>0.804849</td>\n",
       "      <td>0.123519</td>\n",
       "    </tr>\n",
       "    <tr>\n",
       "      <th>precision</th>\n",
       "      <td>0.788816</td>\n",
       "      <td>0.207127</td>\n",
       "    </tr>\n",
       "    <tr>\n",
       "      <th>recall</th>\n",
       "      <td>0.845200</td>\n",
       "      <td>0.170417</td>\n",
       "    </tr>\n",
       "    <tr>\n",
       "      <th rowspan=\"3\" valign=\"top\">std_2day</th>\n",
       "      <th>overall_accuracy</th>\n",
       "      <td>0.823720</td>\n",
       "      <td>0.152845</td>\n",
       "    </tr>\n",
       "    <tr>\n",
       "      <th>precision</th>\n",
       "      <td>0.770245</td>\n",
       "      <td>0.215143</td>\n",
       "    </tr>\n",
       "    <tr>\n",
       "      <th>recall</th>\n",
       "      <td>0.965914</td>\n",
       "      <td>0.055223</td>\n",
       "    </tr>\n",
       "    <tr>\n",
       "      <th rowspan=\"3\" valign=\"top\">std_3day</th>\n",
       "      <th>overall_accuracy</th>\n",
       "      <td>0.826149</td>\n",
       "      <td>0.145905</td>\n",
       "    </tr>\n",
       "    <tr>\n",
       "      <th>precision</th>\n",
       "      <td>0.772862</td>\n",
       "      <td>0.214098</td>\n",
       "    </tr>\n",
       "    <tr>\n",
       "      <th>recall</th>\n",
       "      <td>0.961809</td>\n",
       "      <td>0.059423</td>\n",
       "    </tr>\n",
       "  </tbody>\n",
       "</table>\n",
       "</div>"
      ],
      "text/plain": [
       "                                mean       std\n",
       "Method    metric                              \n",
       "otsu_2day overall_accuracy  0.818962  0.135054\n",
       "          precision         0.773237  0.212571\n",
       "          recall            0.918766  0.121110\n",
       "otsu_3day overall_accuracy  0.804849  0.123519\n",
       "          precision         0.788816  0.207127\n",
       "          recall            0.845200  0.170417\n",
       "std_2day  overall_accuracy  0.823720  0.152845\n",
       "          precision         0.770245  0.215143\n",
       "          recall            0.965914  0.055223\n",
       "std_3day  overall_accuracy  0.826149  0.145905\n",
       "          precision         0.772862  0.214098\n",
       "          recall            0.961809  0.059423"
      ]
     },
     "execution_count": 107,
     "metadata": {},
     "output_type": "execute_result"
    }
   ],
   "source": [
    "overall.groupby(['Method', 'metric'])['value'].agg(['mean', 'std'])"
   ]
  },
  {
   "cell_type": "markdown",
   "metadata": {},
   "source": [
    "# Step 3: Test Number of Points"
   ]
  },
  {
   "cell_type": "markdown",
   "metadata": {},
   "source": [
    "This step takes a subsample of floods we used for testing and determines how the accuracy changes as a function of the number of points tha tyou sample"
   ]
  },
  {
   "cell_type": "code",
   "execution_count": 75,
   "metadata": {},
   "outputs": [
    {
     "name": "stdout",
     "output_type": "stream",
     "text": [
      "/Users/ckuhn/Documents/Coauthor/GFD_Tellman\n"
     ]
    }
   ],
   "source": [
    "%cd '/Users/ckuhn/Documents/Coauthor/GFD_Tellman/'\n",
    "df = pd.read_csv('gfd_validation_sensitivity.csv')"
   ]
  },
  {
   "cell_type": "code",
   "execution_count": 76,
   "metadata": {},
   "outputs": [
    {
     "data": {
      "text/html": [
       "<div>\n",
       "<style scoped>\n",
       "    .dataframe tbody tr th:only-of-type {\n",
       "        vertical-align: middle;\n",
       "    }\n",
       "\n",
       "    .dataframe tbody tr th {\n",
       "        vertical-align: top;\n",
       "    }\n",
       "\n",
       "    .dataframe thead th {\n",
       "        text-align: right;\n",
       "    }\n",
       "</style>\n",
       "<table border=\"1\" class=\"dataframe\">\n",
       "  <thead>\n",
       "    <tr style=\"text-align: right;\">\n",
       "      <th></th>\n",
       "      <th>Unnamed: 0</th>\n",
       "      <th>B1</th>\n",
       "      <th>B2</th>\n",
       "      <th>B3</th>\n",
       "      <th>B4</th>\n",
       "      <th>B5</th>\n",
       "      <th>B7</th>\n",
       "      <th>MNDWI</th>\n",
       "      <th>NDVI</th>\n",
       "      <th>analyst</th>\n",
       "      <th>date</th>\n",
       "      <th>dfoID</th>\n",
       "      <th>id</th>\n",
       "      <th>lat</th>\n",
       "      <th>lon</th>\n",
       "      <th>random</th>\n",
       "      <th>strata</th>\n",
       "      <th>validation</th>\n",
       "      <th>score</th>\n",
       "    </tr>\n",
       "  </thead>\n",
       "  <tbody>\n",
       "    <tr>\n",
       "      <th>0</th>\n",
       "      <td>0</td>\n",
       "      <td>675.522719</td>\n",
       "      <td>1128.643606</td>\n",
       "      <td>2015.265677</td>\n",
       "      <td>2436.991734</td>\n",
       "      <td>3702.040962</td>\n",
       "      <td>2753.348602</td>\n",
       "      <td>-0.365915</td>\n",
       "      <td>0.095263</td>\n",
       "      <td>HT</td>\n",
       "      <td>5/10/18</td>\n",
       "      <td>2143</td>\n",
       "      <td>0</td>\n",
       "      <td>-21.762688</td>\n",
       "      <td>123.87866</td>\n",
       "      <td>0.341315</td>\n",
       "      <td>0</td>\n",
       "      <td>0</td>\n",
       "      <td>0</td>\n",
       "    </tr>\n",
       "  </tbody>\n",
       "</table>\n",
       "</div>"
      ],
      "text/plain": [
       "   Unnamed: 0          B1           B2           B3           B4           B5  \\\n",
       "0           0  675.522719  1128.643606  2015.265677  2436.991734  3702.040962   \n",
       "\n",
       "            B7     MNDWI      NDVI analyst     date  dfoID  id        lat  \\\n",
       "0  2753.348602 -0.365915  0.095263      HT  5/10/18   2143   0 -21.762688   \n",
       "\n",
       "         lon    random  strata  validation  score  \n",
       "0  123.87866  0.341315       0           0      0  "
      ]
     },
     "execution_count": 76,
     "metadata": {},
     "output_type": "execute_result"
    }
   ],
   "source": [
    "raw = df.copy()\n",
    "raw.head(1)"
   ]
  },
  {
   "cell_type": "code",
   "execution_count": 77,
   "metadata": {
    "collapsed": true
   },
   "outputs": [],
   "source": [
    "# These are the ones we are going to drop \n",
    "raw3 = raw.groupby('dfoID').filter(lambda g: g.dfoID.count() < 200)\n",
    "raw3.dfoID.unique()\n",
    "\n",
    "#From the first round of classifications\n",
    "raw = raw[raw.dfoID != 4507]\n",
    "raw = raw[raw.dfoID != 2586]"
   ]
  },
  {
   "cell_type": "code",
   "execution_count": 78,
   "metadata": {
    "collapsed": true
   },
   "outputs": [],
   "source": [
    "floods = list(set(raw.dfoID)) ## Get a list of all the unique values of floods\n",
    "sampling_levels = np.arange(0, 400, 1)\n",
    "\n",
    "#sampling_levels = [10,20,30,40,50,60,100] ### Set levels you want to sample at \n",
    "\n",
    "col_names =  ['Flood','NumofPoints', 'tp', 'tn','fp','fn',\n",
    "             'precision','recall','overall_accuracy',\n",
    "             'commission','omission'] ### Column names for making data frames for each flood\n",
    "\n",
    "my_df  = pd.DataFrame(columns = col_names)## Make empty data frame to put values for each sampling level in\n",
    "\n",
    "for i in floods:  ### Loop through floods\n",
    "    df_full = raw.loc[raw['dfoID']== i] ### subset data frame by single flood\n",
    "    for j in sampling_levels: ## Loop through sampling levels\n",
    "        df = df_full.sample(j) ##Apparently pandas has a built-in dataframe random sampler!\n",
    "        tp = float(len(df.loc[df['score']== 5])) \n",
    "        tn = float(len(df.loc[df['score']== 0]))\n",
    "        fp = float(len(df.loc[df['score']== 4]))\n",
    "        fn = float(len(df.loc[df['score']== 1]))\n",
    "        ### Calculating values!\n",
    "        if tp == 0: ###Hmm, sometimes there are no tp scores, so you get a zero divide error\n",
    "            continue ###I've put this in for now but it's gonna bite your butt eventually\n",
    "        precision = tp / (tp + fp)\n",
    "        recall  = tp / (tp + fn)  # % of flooded pixels it ID'ed correctly\n",
    "        accuracy = (tn + tp) / (tn+tp+fp+fn)\n",
    "        commission = fp / (tp + fp)  # modeled positives over all true positives\n",
    "        omission = fn / (tp + fn)\n",
    "        ##add a new row to the dataframe based on this sampling level!\n",
    "        my_df.loc[len(my_df)] = [i,j, tp, tn, fp, fn, precision, recall, accuracy, commission, omission]\n",
    "\n",
    "        ###Now you should have a full dataframe with all your sampling levels for each flood\n",
    "        ###SO\n",
    "#my_df.to_csv('myprecious.csv', encoding='utf-8')"
   ]
  },
  {
   "cell_type": "code",
   "execution_count": 79,
   "metadata": {},
   "outputs": [
    {
     "data": {
      "text/html": [
       "<div>\n",
       "<style scoped>\n",
       "    .dataframe tbody tr th:only-of-type {\n",
       "        vertical-align: middle;\n",
       "    }\n",
       "\n",
       "    .dataframe tbody tr th {\n",
       "        vertical-align: top;\n",
       "    }\n",
       "\n",
       "    .dataframe thead th {\n",
       "        text-align: right;\n",
       "    }\n",
       "</style>\n",
       "<table border=\"1\" class=\"dataframe\">\n",
       "  <thead>\n",
       "    <tr style=\"text-align: right;\">\n",
       "      <th></th>\n",
       "      <th>Flood</th>\n",
       "      <th>NumofPoints</th>\n",
       "      <th>tp</th>\n",
       "      <th>tn</th>\n",
       "      <th>fp</th>\n",
       "      <th>fn</th>\n",
       "      <th>precision</th>\n",
       "      <th>recall</th>\n",
       "      <th>overall_accuracy</th>\n",
       "      <th>commission</th>\n",
       "      <th>omission</th>\n",
       "    </tr>\n",
       "  </thead>\n",
       "  <tbody>\n",
       "    <tr>\n",
       "      <th>0</th>\n",
       "      <td>4163.0</td>\n",
       "      <td>3.0</td>\n",
       "      <td>1.0</td>\n",
       "      <td>0.0</td>\n",
       "      <td>0.0</td>\n",
       "      <td>0.0</td>\n",
       "      <td>1.0</td>\n",
       "      <td>1.0</td>\n",
       "      <td>1.0</td>\n",
       "      <td>0.0</td>\n",
       "      <td>0.0</td>\n",
       "    </tr>\n",
       "  </tbody>\n",
       "</table>\n",
       "</div>"
      ],
      "text/plain": [
       "    Flood  NumofPoints   tp   tn   fp   fn  precision  recall  \\\n",
       "0  4163.0          3.0  1.0  0.0  0.0  0.0        1.0     1.0   \n",
       "\n",
       "   overall_accuracy  commission  omission  \n",
       "0               1.0         0.0       0.0  "
      ]
     },
     "execution_count": 79,
     "metadata": {},
     "output_type": "execute_result"
    }
   ],
   "source": [
    "my_df.head(1)"
   ]
  },
  {
   "cell_type": "code",
   "execution_count": 80,
   "metadata": {},
   "outputs": [
    {
     "name": "stdout",
     "output_type": "stream",
     "text": [
      "0.17346292877842398\n",
      "0.025846575186897005\n",
      "0.8749003938035954\n"
     ]
    }
   ],
   "source": [
    "print(my_df.commission.mean())\n",
    "print(my_df.omission.mean())\n",
    "print(my_df.overall_accuracy.mean())"
   ]
  },
  {
   "cell_type": "code",
   "execution_count": 82,
   "metadata": {
    "collapsed": true
   },
   "outputs": [],
   "source": [
    "def set_style():\n",
    "    plt.style.use(['seaborn-white', 'seaborn-talk'])\n",
    "    plt.rc(\"font\", family=\"Times New Roman\", size = 30)\n",
    "    plt.rc('xtick', labelsize=30) \n",
    "    plt.rc('ytick', labelsize=30) \n",
    "    plt.rc({'axes.titlesize': 'large'})\n",
    "set_style()  "
   ]
  },
  {
   "cell_type": "code",
   "execution_count": 91,
   "metadata": {},
   "outputs": [
    {
     "data": {
      "text/plain": [
       "(0, 400)"
      ]
     },
     "execution_count": 91,
     "metadata": {},
     "output_type": "execute_result"
    },
    {
     "data": {
      "image/png": "[encoded data removed]",
      "text/plain": [
       "<Figure size 748.8x514.8 with 1 Axes>"
      ]
     },
     "metadata": {},
     "output_type": "display_data"
    }
   ],
   "source": [
    "my_df.groupby(['NumofPoints'])['overall_accuracy'].mean().plot(label='Overall Accuracy')\n",
    "\n",
    "plt.xlabel('Number of Points', fontsize=30)\n",
    "\n",
    "my_df.groupby(['NumofPoints'])['precision'].mean().plot(label='Precision')\n",
    "plt.xlabel('Number of Points', fontsize=30)\n",
    "\n",
    "my_df.groupby(['NumofPoints'])['recall'].mean().plot(label='Recall')\n",
    "plt.xlabel('Number of Points', fontsize=30)\n",
    "plt.ylabel ('Score', fontsize=40)\n",
    "plt.legend(title=\"Metric\")\n",
    "\n",
    "plt.axvline(250, color='grey', linestyle='--')\n",
    "\n",
    "plt.ylim(0.6,1.01)\n",
    "plt.xlim(0,400)\n",
    "\n",
    "# %cd /Users/ckuhn/Documents/Coauthor/DFO_Accuracy/figures/\n",
    "# plt.savefig('point_test_accuracy_n10_2019_revisions.png', dpi = 300)"
   ]
  },
  {
   "cell_type": "markdown",
   "metadata": {},
   "source": [
    "### Std. Dev of Accuracy @ any given number of points"
   ]
  },
  {
   "cell_type": "code",
   "execution_count": 85,
   "metadata": {},
   "outputs": [
    {
     "data": {
      "text/plain": [
       "0.09778886675976595"
      ]
     },
     "execution_count": 85,
     "metadata": {},
     "output_type": "execute_result"
    }
   ],
   "source": [
    "df = my_df.groupby(['NumofPoints'])['overall_accuracy'].agg(['mean','var', 'std']).reset_index()\n",
    "\n",
    "df.loc[df['NumofPoints']==250]['std'].mean()"
   ]
  }
 ],
 "metadata": {
  "kernelspec": {
   "display_name": "Python 3",
   "language": "python",
   "name": "python3"
  },
  "language_info": {
   "codemirror_mode": {
    "name": "ipython",
    "version": 3
   },
   "file_extension": ".py",
   "mimetype": "text/x-python",
   "name": "python",
   "nbconvert_exporter": "python",
   "pygments_lexer": "ipython3",
   "version": "3.7.3"
  }
 },
 "nbformat": 4,
 "nbformat_minor": 2
}
