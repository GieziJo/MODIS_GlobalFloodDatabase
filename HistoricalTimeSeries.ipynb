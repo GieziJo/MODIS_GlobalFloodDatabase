{
 "cells": [
  {
   "cell_type": "code",
   "execution_count": 69,
   "id": "60090c79-544e-4321-802c-7f338fa3fa87",
   "metadata": {},
   "outputs": [],
   "source": [
    "import ee\n",
    "import importlib\n",
    "from flood_detection import modis\n",
    "importlib.reload(modis)\n",
    "from flood_detection.utils import misc\n",
    "import geemap\n",
    "from pathlib import Path\n",
    "import rasterio"
   ]
  },
  {
   "cell_type": "code",
   "execution_count": 70,
   "id": "17d78ef9-d53d-4a26-8693-a1b712cb012b",
   "metadata": {},
   "outputs": [
    {
     "data": {
      "text/html": [
       "<p>To authorize access needed by Earth Engine, open the following\n",
       "        URL in a web browser and follow the instructions:</p>\n",
       "        <p><a href=https://code.earthengine.google.com/client-auth?scopes=https%3A//www.googleapis.com/auth/earthengine%20https%3A//www.googleapis.com/auth/devstorage.full_control&request_id=ymcySa0ycwILBIeql5-B4dK-5oa8U-MxoRdRdOr4NLc&tc=-GOeA4yeyCw3c5rcJQwWm8FxLccTSKir1X5A2LEvG9M&cc=KmrL7lO8MVfPAU5_3PvorMpMMkju01k-kurXfKRk0io>https://code.earthengine.google.com/client-auth?scopes=https%3A//www.googleapis.com/auth/earthengine%20https%3A//www.googleapis.com/auth/devstorage.full_control&request_id=ymcySa0ycwILBIeql5-B4dK-5oa8U-MxoRdRdOr4NLc&tc=-GOeA4yeyCw3c5rcJQwWm8FxLccTSKir1X5A2LEvG9M&cc=KmrL7lO8MVfPAU5_3PvorMpMMkju01k-kurXfKRk0io</a></p>\n",
       "        <p>The authorization workflow will generate a code, which you\n",
       "        should paste in the box below</p>\n",
       "        "
      ],
      "text/plain": [
       "<IPython.core.display.HTML object>"
      ]
     },
     "metadata": {},
     "output_type": "display_data"
    },
    {
     "name": "stdin",
     "output_type": "stream",
     "text": [
      "Enter verification code:  4/1AX4XfWgR1-lVa4_dtM9f7Geh5rmC4tznd04neaNaziY8HQTJB-THErOjx98\n"
     ]
    },
    {
     "name": "stdout",
     "output_type": "stream",
     "text": [
      "\n",
      "Successfully saved authorization token.\n"
     ]
    }
   ],
   "source": [
    "ee.Authenticate()"
   ]
  },
  {
   "cell_type": "code",
   "execution_count": 71,
   "id": "ad0b16c7-87e6-472a-ade8-ba45c4131d94",
   "metadata": {},
   "outputs": [],
   "source": [
    "ee.Initialize()"
   ]
  },
  {
   "cell_type": "code",
   "execution_count": 8,
   "id": "f7653bac-9f30-4f8f-8266-a20ad3160749",
   "metadata": {},
   "outputs": [],
   "source": []
  },
  {
   "cell_type": "code",
   "execution_count": 72,
   "id": "b312046b-254f-4b3f-83cb-f7dd6b5ddd4b",
   "metadata": {},
   "outputs": [],
   "source": [
    "Rajshahi = ee.FeatureCollection(\"projects/ee-bobgiezi/assets/Gates/Rajshahi\").geometry().bounds()\n",
    "Kurigram = ee.FeatureCollection(\"projects/ee-bobgiezi/assets/Gates/Kurigram\").geometry().bounds()"
   ]
  },
  {
   "cell_type": "code",
   "execution_count": 73,
   "id": "dfb436a7-93d9-49d8-afc9-ac07da7c3a50",
   "metadata": {},
   "outputs": [],
   "source": [
    "geoms = list()\n",
    "geoms.append(Rajshahi)\n",
    "geoms.append(Kurigram)"
   ]
  },
  {
   "cell_type": "code",
   "execution_count": 74,
   "id": "094e7374-0033-4cd9-8327-1c760e313ce6",
   "metadata": {},
   "outputs": [],
   "source": [
    "names = ['Rajshahi', 'Kurigram']"
   ]
  },
  {
   "cell_type": "code",
   "execution_count": 76,
   "id": "bc4b490c-b607-4316-a343-e1fa32bb103d",
   "metadata": {},
   "outputs": [
    {
     "name": "stdout",
     "output_type": "stream",
     "text": [
      "Collected and pre-processed MODIS Images\n",
      "DFO Flood Dectection Complete\n",
      "Generating URL ...\n",
      "Downloading data from https://earthengine.googleapis.com/v1alpha/projects/earthengine-legacy/thumbnails/b75653d31287775b52a5ffa9519fcffc-94768a428234482d333eda0823693462:getPixels\n",
      "Please wait ...\n",
      "Data downloaded to /home/jovyan/work/MODIS_GlobalFloodDatabase/DataExport/Rajshahi/2021.tif\n",
      "Collected and pre-processed MODIS Images\n",
      "DFO Flood Dectection Complete\n",
      "Generating URL ...\n",
      "Downloading data from https://earthengine.googleapis.com/v1alpha/projects/earthengine-legacy/thumbnails/2d58c4187a3625a5f4bd4d7e284738ec-12921bac2b44d5535b90ce2dcf19839d:getPixels\n",
      "Please wait ...\n",
      "Data downloaded to /home/jovyan/work/MODIS_GlobalFloodDatabase/DataExport/Kurigram/2021.tif\n"
     ]
    }
   ],
   "source": [
    "for k in range(len(geoms)):\n",
    "    for year in range(2001, 2022):\n",
    "        geom = geoms[k]\n",
    "        name = names[k]\n",
    "        \n",
    "        filename = str(Path('DataExport')/name/(str(year)+'.tif'))\n",
    "\n",
    "        flood_map = modis.dfo(geom, str(year)+\"-06-01\", str(year)+\"-12-31\", \"standard\", '3Day', True)\n",
    "\n",
    "        flood_map_slope_mask = misc.apply_slope_mask(flood_map, thresh=5)\n",
    "\n",
    "        perm_water = misc.get_jrc_perm(geom)\n",
    "\n",
    "        dfo_final = ee.Image(flood_map_slope_mask).addBands(perm_water)\n",
    "\n",
    "        geemap.ee_export_image(dfo_final,\\\n",
    "                           filename,\\\n",
    "                           scale=250,\\\n",
    "                           crs='EPSG:4326',\\\n",
    "                           region=geom,\\\n",
    "                           file_per_band=False)"
   ]
  },
  {
   "cell_type": "code",
   "execution_count": 77,
   "id": "0761365f-8628-4eb4-b52f-b34441ee95ec",
   "metadata": {},
   "outputs": [],
   "source": [
    "for name in names:\n",
    "    for year in range(2021, 2022):\n",
    "        with rasterio.open(Path('DataExport')/name/(str(year)+'.tif'),'r+') as dst:\n",
    "            dst.descriptions = tuple(['flooded', 'duration', 'clearViews', 'clearPerc', 'maxExtent', 'permanentWater'])"
   ]
  },
  {
   "cell_type": "code",
   "execution_count": null,
   "id": "9355b423-84e5-46e3-b7e8-3bebc8fca29b",
   "metadata": {},
   "outputs": [],
   "source": []
  }
 ],
 "metadata": {
  "kernelspec": {
   "display_name": "Python 3 (ipykernel)",
   "language": "python",
   "name": "python3"
  },
  "language_info": {
   "codemirror_mode": {
    "name": "ipython",
    "version": 3
   },
   "file_extension": ".py",
   "mimetype": "text/x-python",
   "name": "python",
   "nbconvert_exporter": "python",
   "pygments_lexer": "ipython3",
   "version": "3.9.10"
  }
 },
 "nbformat": 4,
 "nbformat_minor": 5
}
